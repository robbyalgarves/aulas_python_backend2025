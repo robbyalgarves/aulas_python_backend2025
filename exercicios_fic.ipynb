{
 "cells": [
  {
   "cell_type": "markdown",
   "metadata": {
    "id": "7cSjkBggT5jc"
   },
   "source": [
    "# **Exercício 1:**\n",
    "\n",
    "---\n",
    "\n",
    "Faça um programa que calcule a raiz quadrada de um número inteiro fornecido pelo usuário.\n",
    "Utilize a biblioteca *math* para realizar o cálculo.\n",
    "\n",
    "[Link para a Documentação do math](https://docs.python.org/pt-br/3/library/tk.html)\n",
    "\n"
   ]
  },
  {
   "cell_type": "code",
   "execution_count": 2,
   "metadata": {
    "id": "Z_bnJxYGT0_o"
   },
   "outputs": [
    {
     "name": "stdout",
     "output_type": "stream",
     "text": [
      "A raiz quadrada de 8 é 2.83\n"
     ]
    }
   ],
   "source": [
    "import math\n",
    "\n",
    "num = int(input(\"Digite um número para calcular a raiz quadrada: \"))\n",
    "raiz_quadrada = math.sqrt(num)\n",
    " \n",
    "print(f\"A raiz quadrada de {num} é {raiz_quadrada:.2f}\")"
   ]
  },
  {
   "cell_type": "markdown",
   "metadata": {
    "id": "Sa1-LWktUG_z"
   },
   "source": [
    "# **Exercício 2:**\n",
    "\n",
    "---\n",
    "\n",
    "Crie um programa que gere um número aleatório entre 1 e 100 e peça ao usuário para adivinhar qual é esse número. Utilize *randint* da biblioteca *random* para gerar o número aleatório.\n",
    "\n",
    "[Link para a Documentação do random](https://docs.python.org/pt-br/3/library/random.html#random.randint)"
   ]
  },
  {
   "cell_type": "code",
   "execution_count": 4,
   "metadata": {
    "id": "9iOJpg0_ULDC"
   },
   "outputs": [
    {
     "name": "stdout",
     "output_type": "stream",
     "text": [
      "Infelizmente, o número era 94.\n"
     ]
    }
   ],
   "source": [
    "import random\n",
    "\n",
    "# faça o código aqui #\n",
    "numero_aleatorio = random.randint(1, 100)\n",
    "tentativa = int(input(\"Tente adivinhar o número entre 1 e 100: \"))\n",
    "\n",
    "if tentativa == numero_aleatorio:\n",
    "    print(\"Parabéns, você acertou!\")\n",
    "else:\n",
    "    print(f\"Infelizmente, o número era {numero_aleatorio}.\")\n",
    "   "
   ]
  },
  {
   "cell_type": "markdown",
   "metadata": {
    "id": "vrAwGLX3UXLq"
   },
   "source": [
    "# **Exercício 3:**\n",
    "\n",
    "---\n",
    "Crie um programa que solicite ao usuário um nome de arquivo e, em seguida, leia o conteúdo desse arquivo e conte quantas palavras diferentes existem no texto. Utilize *Counter* da biblioteca *collections* para ajudar na contagem.\n",
    "\n",
    "[Link para a Documentação do collections](https://docs.python.org/3/library/collections.html#counter-objects)\n",
    "\n"
   ]
  },
  {
   "cell_type": "code",
   "execution_count": null,
   "metadata": {
    "id": "7x4SlXfjQcFS"
   },
   "outputs": [
    {
     "ename": "FileNotFoundError",
     "evalue": "[Errno 2] No such file or directory: 'Casa'",
     "output_type": "error",
     "traceback": [
      "\u001b[31m---------------------------------------------------------------------------\u001b[39m",
      "\u001b[31mFileNotFoundError\u001b[39m                         Traceback (most recent call last)",
      "\u001b[36mCell\u001b[39m\u001b[36m \u001b[39m\u001b[32mIn[5]\u001b[39m\u001b[32m, line 6\u001b[39m\n\u001b[32m      3\u001b[39m \u001b[38;5;66;03m# faça o código aqui #\u001b[39;00m\n\u001b[32m      4\u001b[39m nome_arquivo = \u001b[38;5;28minput\u001b[39m(\u001b[33m\"\u001b[39m\u001b[33mDigite o nome do arquivo: \u001b[39m\u001b[33m\"\u001b[39m)\n\u001b[32m----> \u001b[39m\u001b[32m6\u001b[39m \u001b[38;5;28;01mwith\u001b[39;00m \u001b[38;5;28;43mopen\u001b[39;49m\u001b[43m(\u001b[49m\u001b[43mnome_arquivo\u001b[49m\u001b[43m,\u001b[49m\u001b[43m \u001b[49m\u001b[33;43m\"\u001b[39;49m\u001b[33;43mr\u001b[39;49m\u001b[33;43m\"\u001b[39;49m\u001b[43m)\u001b[49m \u001b[38;5;28;01mas\u001b[39;00m arquivo:\n\u001b[32m      7\u001b[39m     palavras = arquivo.read().split()\n\u001b[32m      8\u001b[39m     contador_palavras = Counter(palavras)\n",
      "\u001b[36mFile \u001b[39m\u001b[32m~\\AppData\\Roaming\\Python\\Python314\\site-packages\\IPython\\core\\interactiveshell.py:343\u001b[39m, in \u001b[36m_modified_open\u001b[39m\u001b[34m(file, *args, **kwargs)\u001b[39m\n\u001b[32m    336\u001b[39m \u001b[38;5;28;01mif\u001b[39;00m file \u001b[38;5;129;01min\u001b[39;00m {\u001b[32m0\u001b[39m, \u001b[32m1\u001b[39m, \u001b[32m2\u001b[39m}:\n\u001b[32m    337\u001b[39m     \u001b[38;5;28;01mraise\u001b[39;00m \u001b[38;5;167;01mValueError\u001b[39;00m(\n\u001b[32m    338\u001b[39m         \u001b[33mf\u001b[39m\u001b[33m\"\u001b[39m\u001b[33mIPython won\u001b[39m\u001b[33m'\u001b[39m\u001b[33mt let you open fd=\u001b[39m\u001b[38;5;132;01m{\u001b[39;00mfile\u001b[38;5;132;01m}\u001b[39;00m\u001b[33m by default \u001b[39m\u001b[33m\"\u001b[39m\n\u001b[32m    339\u001b[39m         \u001b[33m\"\u001b[39m\u001b[33mas it is likely to crash IPython. If you know what you are doing, \u001b[39m\u001b[33m\"\u001b[39m\n\u001b[32m    340\u001b[39m         \u001b[33m\"\u001b[39m\u001b[33myou can use builtins\u001b[39m\u001b[33m'\u001b[39m\u001b[33m open.\u001b[39m\u001b[33m\"\u001b[39m\n\u001b[32m    341\u001b[39m     )\n\u001b[32m--> \u001b[39m\u001b[32m343\u001b[39m \u001b[38;5;28;01mreturn\u001b[39;00m \u001b[43mio_open\u001b[49m\u001b[43m(\u001b[49m\u001b[43mfile\u001b[49m\u001b[43m,\u001b[49m\u001b[43m \u001b[49m\u001b[43m*\u001b[49m\u001b[43margs\u001b[49m\u001b[43m,\u001b[49m\u001b[43m \u001b[49m\u001b[43m*\u001b[49m\u001b[43m*\u001b[49m\u001b[43mkwargs\u001b[49m\u001b[43m)\u001b[49m\n",
      "\u001b[31mFileNotFoundError\u001b[39m: [Errno 2] No such file or directory: 'Casa'"
     ]
    }
   ],
   "source": [
    "from collections import Counter\n",
    "\n",
    "# faça o código aqui #\n",
    "nome_arquivo = input(\"Digite o nome do arquivo: \")\n",
    "\n",
    "with open(nome_arquivo, \"r\") as arquivo: # arquivo = open(\"nome_arquivo\",\"r\") a fun~]ao de r seria de \"ler\" literalmente ler o arquivo\n",
    "    palavras = arquivo.read().split()\n",
    "    contador_palavras = Counter(palavras)\n",
    "\n",
    "numero_palavras_diferentes = len(contador_palavras)\n",
    "print(f\"O arquivo contém {numero_palavras_diferentes} palavras diferentes.\")"
   ]
  },
  {
   "cell_type": "markdown",
   "metadata": {
    "id": "RA7LpHIHUgcT"
   },
   "source": [
    "# **Exercício 4:**\n",
    "\n",
    "---\n",
    "Crie um programa usando a biblioteca *tkinter* que exiba uma janela com um botão. Quando o botão for clicado, exiba uma mensagem de saudação usando a função *messagebox.showinfo()*.\n",
    "\n",
    "[Link para a Documentação do Tkinter](https://docs.python.org/pt-br/3/library/tk.html)\n",
    "\n",
    "[Site com tutorial em português](https://www.dio.me/articles/o-que-e-e-como-utilizar-a-biblioteca-tkinter-em-python)"
   ]
  },
  {
   "cell_type": "code",
   "execution_count": null,
   "metadata": {
    "id": "01QBl5HWU2xj"
   },
   "outputs": [],
   "source": [
    "import tkinter as tk\n",
    "from tkinter import messagebox\n",
    "\n",
    "# faça o código aqui #\n",
    "import tkinter as tk\n",
    "from tkinter import messagebox\n",
    "\n",
    "def mostrar_saudacao():\n",
    "    messagebox.showinfo(\"Saudação\", \"Olá, mundo!\")\n",
    "\n",
    "janela = tk.Tk()\n",
    "janela.title(\"Exemplo 1 - Saudação\")\n",
    "\n",
    "botao = tk.Button(janela, text=\"Clique aqui\", command=mostrar_saudacao)\n",
    "botao.pack()\n",
    "\n",
    "janela.mainloop()"
   ]
  },
  {
   "cell_type": "markdown",
   "metadata": {
    "id": "qoozLEBUZeDa"
   },
   "source": [
    "# **Exercício 5:**\n",
    "\n",
    "---\n",
    "Crie um programa que utilize a biblioteca *pandas* para ler um arquivo CSV chamado \"dados.csv\".\n",
    "\n",
    "O arquivo contém uma coluna chamada \"idade\". Calcule a média das idades utilizando o método *.mean()* e exiba o resultado.\n",
    "\n",
    "[Link para a Documentação do Pandas](https://pandas.pydata.org/docs/reference/api/pandas.read_csv.html)\n"
   ]
  },
  {
   "cell_type": "code",
   "execution_count": null,
   "metadata": {
    "id": "BzqGllCyQcFT"
   },
   "outputs": [],
   "source": [
    "# Cole o texto abaixo no seu arquivo dados.csv #\n",
    "\n",
    "idade,\n",
    "5,\n",
    "67,\n",
    "56,\n",
    "78,\n",
    "12"
   ]
  },
  {
   "cell_type": "code",
   "execution_count": null,
   "metadata": {
    "id": "56Mo2YGCZjg5"
   },
   "outputs": [],
   "source": [
    "import pandas as pd\n",
    "\n",
    "# faça o código aqui #\n",
    "dados = pd.read_csv(\"dados.csv\") #csv arquivo de texto simples, separado por virgulas\n",
    "\n",
    "# Calcula a média das idades\n",
    "media_idades = dados[\"idade\"].mean()  # mean faz a média de todos os valores\n",
    "\n",
    "print(f\"A média das idades é: {media_idades:.2f}\")"
   ]
  },
  {
   "cell_type": "markdown",
   "metadata": {
    "id": "CrGJ4bNpZkl5"
   },
   "source": [
    "# **Exercício 6:**\n",
    "\n",
    "---\n",
    "Crie um programa que utilize as bibliotecas *pandas* e *matplotlib* para ler um arquivo CSV chamado \"dados2.csv\".\n",
    "\n",
    "O arquivo contém duas colunas: \"nome\" e \"pontuacao\". Exiba um gráfico de barras utilizando o método *.bar()* do *matplotlib.pyplot*, passando os nomes como valores no eixo x e as pontuações como valores no eixo y.\n",
    "\n",
    "[Link para a Documentação do Pandas](https://pandas.pydata.org/docs/reference/api/pandas.read_csv.html)\n",
    "\n",
    "[Link para a documentação do matplotlib](https://matplotlib.org/stable/api/_as_gen/matplotlib.pyplot.bar.html)"
   ]
  },
  {
   "cell_type": "code",
   "execution_count": null,
   "metadata": {
    "id": "ZZYq1YsVQcFU"
   },
   "outputs": [],
   "source": [
    "# Cole o texto abaixo no seu arquivo dados2.csv #\n",
    "\n",
    "nome,pontuacao\n",
    "jose,120\n",
    "maria,200\n",
    "joao,300\n",
    "anderson,400\n",
    "johnny,450"
   ]
  },
  {
   "cell_type": "code",
   "execution_count": null,
   "metadata": {
    "id": "fX2Psu7AaNBT"
   },
   "outputs": [],
   "source": [
    "import pandas as pd\n",
    "import matplotlib.pyplot as plt\n",
    "\n",
    "# faça o código aqui #\n",
    "dados = pd.read_csv(\"ex11_dados.csv\")\n",
    "\n",
    "# Cria o gráfico de barras\n",
    "plt.bar(dados[\"nome\"], dados[\"pontuacao\"])\n",
    "plt.xlabel(\"Nomes\")\n",
    "plt.ylabel(\"Pontuações\")\n",
    "plt.title(\"Pontuações dos Alunos\")\n",
    "plt.xticks(rotation=45)\n",
    "plt.tight_layout()\n",
    "\n",
    "# Exibe o gráfico\n",
    "plt.show()"
   ]
  },
  {
   "cell_type": "markdown",
   "metadata": {
    "id": "FcKEWq2RQcFU"
   },
   "source": [
    "# **Exercício 7:**\n",
    "\n",
    "---\n",
    "Crie um programa que liste todos os arquivos em um diretório específico usando os.listdir()\n",
    "\n",
    "[Link para a Documentação do OS](https://docs.python.org/pt-br/3/library/os.html)"
   ]
  },
  {
   "cell_type": "code",
   "execution_count": null,
   "metadata": {
    "id": "uaYE9KFVQcFU"
   },
   "outputs": [],
   "source": [
    "import os\n",
    "from pathlib import Path\n",
    "\n",
    "# faça o código aqui #\n",
    "print('-' * 30)\n",
    "print('LISTA DE ARQUIVOS'.center(30))\n",
    "print('-' * 30)\n",
    "for a in os.listdir(Path.cwd()):\n",
    "    print(a)"
   ]
  }
 ],
 "metadata": {
  "colab": {
   "provenance": []
  },
  "kernelspec": {
   "display_name": "Python 3",
   "language": "python",
   "name": "python3"
  },
  "language_info": {
   "codemirror_mode": {
    "name": "ipython",
    "version": 3
   },
   "file_extension": ".py",
   "mimetype": "text/x-python",
   "name": "python",
   "nbconvert_exporter": "python",
   "pygments_lexer": "ipython3",
   "version": "3.14.0"
  }
 },
 "nbformat": 4,
 "nbformat_minor": 0
}
